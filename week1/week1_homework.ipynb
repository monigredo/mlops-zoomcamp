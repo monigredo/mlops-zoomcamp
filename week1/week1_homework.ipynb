{
  "nbformat": 4,
  "nbformat_minor": 0,
  "metadata": {
    "colab": {
      "name": "week1_homework.ipynb",
      "provenance": [],
      "collapsed_sections": []
    },
    "kernelspec": {
      "name": "python3",
      "display_name": "Python 3"
    },
    "language_info": {
      "name": "python"
    }
  },
  "cells": [
    {
      "cell_type": "code",
      "source": [
        "!mkdir data\n",
        "!curl https://nyc-tlc.s3.amazonaws.com/trip+data/fhv_tripdata_2021-01.parquet --output data/fhv_tripdata_2021-01.parquet\n",
        "!curl https://nyc-tlc.s3.amazonaws.com/trip+data/fhv_tripdata_2021-02.parquet --output data/fhv_tripdata_2021-02.parquet"
      ],
      "metadata": {
        "colab": {
          "base_uri": "https://localhost:8080/"
        },
        "id": "SKmDpfY7ulSe",
        "outputId": "74561e58-9685-4012-bb2e-25c15ca12783"
      },
      "execution_count": 1,
      "outputs": [
        {
          "output_type": "stream",
          "name": "stdout",
          "text": [
            "mkdir: cannot create directory ‘data’: File exists\n",
            "  % Total    % Received % Xferd  Average Speed   Time    Time     Time  Current\n",
            "                                 Dload  Upload   Total   Spent    Left  Speed\n",
            "100 11.3M  100 11.3M    0     0  18.9M      0 --:--:-- --:--:-- --:--:-- 18.9M\n",
            "  % Total    % Received % Xferd  Average Speed   Time    Time     Time  Current\n",
            "                                 Dload  Upload   Total   Spent    Left  Speed\n",
            "100 10.1M  100 10.1M    0     0  20.6M      0 --:--:-- --:--:-- --:--:-- 20.6M\n"
          ]
        }
      ]
    },
    {
      "cell_type": "code",
      "execution_count": 2,
      "metadata": {
        "id": "OVjcKzlNttU5"
      },
      "outputs": [],
      "source": [
        "import pandas as pd\n",
        "import seaborn as sns\n",
        "import matplotlib.pyplot as plt"
      ]
    },
    {
      "cell_type": "code",
      "source": [
        "from sklearn.feature_extraction import DictVectorizer\n",
        "\n",
        "from sklearn.linear_model import LinearRegression\n",
        "from sklearn.metrics import mean_squared_error"
      ],
      "metadata": {
        "id": "leYcjEjzvS2r"
      },
      "execution_count": 3,
      "outputs": []
    },
    {
      "cell_type": "code",
      "source": [
        "file_path = 'data/fhv_tripdata_2021-01.parquet'\n",
        "df = pd.read_parquet(file_path)\n",
        "df.count()"
      ],
      "metadata": {
        "colab": {
          "base_uri": "https://localhost:8080/"
        },
        "id": "fF7cZQ8vvYFT",
        "outputId": "ec1583d0-4480-455e-ca77-fa993dfc3669"
      },
      "execution_count": 4,
      "outputs": [
        {
          "output_type": "execute_result",
          "data": {
            "text/plain": [
              "dispatching_base_num      1154112\n",
              "pickup_datetime           1154112\n",
              "dropOff_datetime          1154112\n",
              "PUlocationID               195845\n",
              "DOlocationID               991892\n",
              "SR_Flag                         0\n",
              "Affiliated_base_number    1153227\n",
              "dtype: int64"
            ]
          },
          "metadata": {},
          "execution_count": 4
        }
      ]
    },
    {
      "cell_type": "code",
      "source": [
        "df['duration'] = (df['dropOff_datetime'] - df['pickup_datetime']).apply(lambda delta: delta.total_seconds()/60)\n",
        "df['duration'].describe()"
      ],
      "metadata": {
        "colab": {
          "base_uri": "https://localhost:8080/"
        },
        "id": "zQoC6o2MxGLz",
        "outputId": "afe27810-1499-4a50-f7ed-99a440186d38"
      },
      "execution_count": 5,
      "outputs": [
        {
          "output_type": "execute_result",
          "data": {
            "text/plain": [
              "count    1.154112e+06\n",
              "mean     1.916722e+01\n",
              "std      3.986922e+02\n",
              "min      1.666667e-02\n",
              "25%      7.766667e+00\n",
              "50%      1.340000e+01\n",
              "75%      2.228333e+01\n",
              "max      4.233710e+05\n",
              "Name: duration, dtype: float64"
            ]
          },
          "metadata": {},
          "execution_count": 5
        }
      ]
    },
    {
      "cell_type": "code",
      "source": [
        "df = df[(df['duration'] <=60) & (df['duration']>=1)]"
      ],
      "metadata": {
        "id": "PJbjmqfBxNK1"
      },
      "execution_count": 6,
      "outputs": []
    },
    {
      "cell_type": "code",
      "source": [
        "df['PUlocationID'] = df['PUlocationID'].fillna(-1)\n",
        "df['DOlocationID'] = df['DOlocationID'].fillna(-1)\n"
      ],
      "metadata": {
        "colab": {
          "base_uri": "https://localhost:8080/"
        },
        "id": "ADJArDCMFxcR",
        "outputId": "20461505-6b33-489d-d60b-1707bc98876d"
      },
      "execution_count": 7,
      "outputs": [
        {
          "output_type": "stream",
          "name": "stderr",
          "text": [
            "/usr/local/lib/python3.7/dist-packages/ipykernel_launcher.py:1: SettingWithCopyWarning: \n",
            "A value is trying to be set on a copy of a slice from a DataFrame.\n",
            "Try using .loc[row_indexer,col_indexer] = value instead\n",
            "\n",
            "See the caveats in the documentation: https://pandas.pydata.org/pandas-docs/stable/user_guide/indexing.html#returning-a-view-versus-a-copy\n",
            "  \"\"\"Entry point for launching an IPython kernel.\n",
            "/usr/local/lib/python3.7/dist-packages/ipykernel_launcher.py:2: SettingWithCopyWarning: \n",
            "A value is trying to be set on a copy of a slice from a DataFrame.\n",
            "Try using .loc[row_indexer,col_indexer] = value instead\n",
            "\n",
            "See the caveats in the documentation: https://pandas.pydata.org/pandas-docs/stable/user_guide/indexing.html#returning-a-view-versus-a-copy\n",
            "  \n"
          ]
        }
      ]
    },
    {
      "cell_type": "code",
      "source": [
        "(df[df['PUlocationID'] == -1].count()['PUlocationID'])/df.count()['PUlocationID']"
      ],
      "metadata": {
        "colab": {
          "base_uri": "https://localhost:8080/"
        },
        "id": "C5lhROKpGZhn",
        "outputId": "f19aba34-0f25-4546-eb9c-246ff0c2793e"
      },
      "execution_count": 8,
      "outputs": [
        {
          "output_type": "execute_result",
          "data": {
            "text/plain": [
              "0.8352732770722617"
            ]
          },
          "metadata": {},
          "execution_count": 8
        }
      ]
    },
    {
      "cell_type": "code",
      "source": [
        "categorical = ['PUlocationID', 'DOlocationID']\n",
        "df[categorical] = df[categorical].astype(str)\n",
        "train_dicts = df[categorical].to_dict(orient='records')\n",
        "dv = DictVectorizer()\n",
        "X_train = dv.fit_transform(train_dicts)"
      ],
      "metadata": {
        "id": "pUYsJkPBG4Uo"
      },
      "execution_count": 9,
      "outputs": []
    },
    {
      "cell_type": "code",
      "source": [
        "X_train.shape"
      ],
      "metadata": {
        "colab": {
          "base_uri": "https://localhost:8080/"
        },
        "id": "a4FzTdcbHgn1",
        "outputId": "72867962-4f8c-4c6d-bbf1-7148940e6dbc"
      },
      "execution_count": 10,
      "outputs": [
        {
          "output_type": "execute_result",
          "data": {
            "text/plain": [
              "(1109826, 525)"
            ]
          },
          "metadata": {},
          "execution_count": 10
        }
      ]
    },
    {
      "cell_type": "code",
      "source": [
        "target = 'duration'\n",
        "y_train = df[target]\n",
        "\n",
        "lr = LinearRegression()\n",
        "lr.fit(X_train, y_train)\n",
        "\n",
        "y_pred = lr.predict(X_train)"
      ],
      "metadata": {
        "id": "cTLxjbfsKgtu"
      },
      "execution_count": 11,
      "outputs": []
    },
    {
      "cell_type": "code",
      "source": [
        "mean_squared_error(y_train, y_pred, squared=False)"
      ],
      "metadata": {
        "colab": {
          "base_uri": "https://localhost:8080/"
        },
        "id": "Qn4Gg7JjK0Ta",
        "outputId": "e9fda3e1-1801-4d03-9e46-25a25db452d8"
      },
      "execution_count": 12,
      "outputs": [
        {
          "output_type": "execute_result",
          "data": {
            "text/plain": [
              "10.528519107210744"
            ]
          },
          "metadata": {},
          "execution_count": 12
        }
      ]
    },
    {
      "cell_type": "code",
      "source": [
        "def load_data(file_path):\n",
        "  df = pd.read_parquet(file_path)\n",
        "  df['duration'] = (df['dropOff_datetime'] - df['pickup_datetime']).apply(lambda delta: delta.total_seconds()/60)\n",
        "  df = df[(df['duration'] <=60) & (df['duration']>=1)]\n",
        "  df['PUlocationID'] = df['PUlocationID'].fillna(-1)\n",
        "  df['DOlocationID'] = df['DOlocationID'].fillna(-1)\n",
        "  (df[df['PUlocationID'] == -1].count()['PUlocationID'])/df.count()['PUlocationID']\n",
        "  return df"
      ],
      "metadata": {
        "id": "fwW1OXmRK1NN"
      },
      "execution_count": 13,
      "outputs": []
    },
    {
      "cell_type": "code",
      "source": [
        "df_train = load_data('data/fhv_tripdata_2021-01.parquet')\n",
        "df_val = load_data('data/fhv_tripdata_2021-02.parquet')"
      ],
      "metadata": {
        "id": "acW6oNXxMNJf"
      },
      "execution_count": 14,
      "outputs": []
    },
    {
      "cell_type": "code",
      "source": [
        "target = 'duration'\n",
        "categorical = ['PUlocationID', 'DOlocationID']"
      ],
      "metadata": {
        "id": "g7RMirfaOdYc"
      },
      "execution_count": 15,
      "outputs": []
    },
    {
      "cell_type": "code",
      "source": [
        "df_train[categorical] = df_train[categorical].astype(str)\n",
        "train_dicts = df_train[categorical].to_dict(orient='records')\n",
        "\n",
        "dv = DictVectorizer()\n",
        "X_train = dv.fit_transform(train_dicts)\n",
        "y_train = df_train[target]"
      ],
      "metadata": {
        "id": "IR3IEmzPO6Z4"
      },
      "execution_count": 16,
      "outputs": []
    },
    {
      "cell_type": "code",
      "source": [
        "df_val[categorical] = df_val[categorical].astype(str)\n",
        "val_dicts = df_val[categorical].to_dict(orient='records')\n",
        "X_val = dv.transform(val_dicts)\n",
        "y_val = df_val[target]"
      ],
      "metadata": {
        "id": "wRPdqWRoMZTt"
      },
      "execution_count": 17,
      "outputs": []
    },
    {
      "cell_type": "code",
      "source": [
        "lr = LinearRegression()\n",
        "lr.fit(X_train, y_train)\n",
        "y_pred = lr.predict(X_val)"
      ],
      "metadata": {
        "id": "3UfmNiYdMaNb"
      },
      "execution_count": 18,
      "outputs": []
    },
    {
      "cell_type": "code",
      "source": [
        "mean_squared_error(y_val, y_pred, squared=False)"
      ],
      "metadata": {
        "colab": {
          "base_uri": "https://localhost:8080/"
        },
        "id": "EicLV8x3M2Ki",
        "outputId": "31b35a99-6bc9-4797-c11d-05da2b7525f8"
      },
      "execution_count": 19,
      "outputs": [
        {
          "output_type": "execute_result",
          "data": {
            "text/plain": [
              "11.014283196111764"
            ]
          },
          "metadata": {},
          "execution_count": 19
        }
      ]
    },
    {
      "cell_type": "code",
      "source": [
        ""
      ],
      "metadata": {
        "id": "cxRlqMvLNYnk"
      },
      "execution_count": 19,
      "outputs": []
    },
    {
      "cell_type": "code",
      "source": [
        ""
      ],
      "metadata": {
        "id": "F38qLjl5NlGe"
      },
      "execution_count": 19,
      "outputs": []
    }
  ]
}